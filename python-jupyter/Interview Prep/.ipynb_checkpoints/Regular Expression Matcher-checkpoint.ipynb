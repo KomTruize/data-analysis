{
 "cells": [
  {
   "cell_type": "markdown",
   "metadata": {},
   "source": [
    "## Regular Expression Matcher"
   ]
  },
  {
   "cell_type": "code",
   "execution_count": 22,
   "metadata": {},
   "outputs": [],
   "source": [
    "def isMatch(text, pattern):\n",
    "    if not pattern:\n",
    "        return not text\n",
    "\n",
    "    ## we check pattern is in text or '.'\n",
    "    first_match = bool(text) and pattern[0] in {text[0], '.'}\n",
    "    # print(bool(text) and{text[0], '.'})\n",
    "\n",
    "    # if len is less than 2 then we have * so nothing to check    \n",
    "    if len(pattern) >= 2 and pattern[1] == '*':\n",
    "        # recurisvely search this text and pattern\n",
    "        # we need to check if we have a first match\n",
    "        # and if not first match we check if text following is same.\n",
    "        return (isMatch(text, pattern[2:]) or\n",
    "                first_match and isMatch(text[1:], pattern))\n",
    "    else:\n",
    "        # else we check the first match and rest of it\n",
    "        return first_match and isMatch(text[1:], pattern[1:])"
   ]
  },
  {
   "cell_type": "code",
   "execution_count": 23,
   "metadata": {},
   "outputs": [
    {
     "name": "stdout",
     "output_type": "stream",
     "text": [
      "{'a', '.'}\n",
      "{'b', '.'}\n",
      "False\n"
     ]
    },
    {
     "data": {
      "text/plain": [
       "True"
      ]
     },
     "execution_count": 23,
     "metadata": {},
     "output_type": "execute_result"
    }
   ],
   "source": [
    "s = \"ab\"\n",
    "p = \".*\"\n",
    "## Output: true\n",
    "s = isMatch(s, p)\n",
    "s"
   ]
  },
  {
   "cell_type": "code",
   "execution_count": 26,
   "metadata": {},
   "outputs": [
    {
     "name": "stdout",
     "output_type": "stream",
     "text": [
      "{'m', '.'}\n",
      "{'i', '.'}\n",
      "{'.', 's'}\n",
      "{'.', 's'}\n",
      "{'.', 's'}\n",
      "{'.', 's'}\n",
      "{'i', '.'}\n",
      "{'i', '.'}\n",
      "{'.', 's'}\n",
      "{'.', 's'}\n",
      "{'.', 's'}\n",
      "{'.', 's'}\n",
      "{'.', 's'}\n",
      "{'.', 's'}\n",
      "{'i', '.'}\n",
      "{'i', '.'}\n",
      "{'i', '.'}\n"
     ]
    },
    {
     "data": {
      "text/plain": [
       "False"
      ]
     },
     "execution_count": 26,
     "metadata": {},
     "output_type": "execute_result"
    }
   ],
   "source": [
    "s = \"mississippi\"\n",
    "p = \"mis*is*p*.\"\n",
    "m = isMatch(s, p)\n",
    "m"
   ]
  },
  {
   "cell_type": "code",
   "execution_count": 27,
   "metadata": {},
   "outputs": [
    {
     "name": "stdout",
     "output_type": "stream",
     "text": [
      "{'a', '.'}\n",
      "{'a', '.'}\n",
      "{'a', '.'}\n",
      "{'a', '.'}\n",
      "{'a', '.'}\n",
      "{'b', '.'}\n",
      "{'b', '.'}\n"
     ]
    },
    {
     "data": {
      "text/plain": [
       "True"
      ]
     },
     "execution_count": 27,
     "metadata": {},
     "output_type": "execute_result"
    }
   ],
   "source": [
    "s = \"aab\"\n",
    "p = \"c*a*b\"\n",
    "m = isMatch(s, p)\n",
    "m"
   ]
  },
  {
   "cell_type": "code",
   "execution_count": 29,
   "metadata": {},
   "outputs": [
    {
     "name": "stdout",
     "output_type": "stream",
     "text": [
      "{'a', '.'}\n",
      "{'a', '.'}\n",
      "False\n"
     ]
    },
    {
     "data": {
      "text/plain": [
       "True"
      ]
     },
     "execution_count": 29,
     "metadata": {},
     "output_type": "execute_result"
    }
   ],
   "source": [
    "s = \"aa\"\n",
    "p = \"a*\"\n",
    "m = isMatch(s, p)\n",
    "m"
   ]
  },
  {
   "cell_type": "code",
   "execution_count": 31,
   "metadata": {},
   "outputs": [
    {
     "name": "stdout",
     "output_type": "stream",
     "text": [
      "{'a', '.'}\n",
      "{'b', '.'}\n",
      "False\n"
     ]
    },
    {
     "data": {
      "text/plain": [
       "True"
      ]
     },
     "execution_count": 31,
     "metadata": {},
     "output_type": "execute_result"
    }
   ],
   "source": [
    "s = \"ab\"\n",
    "p = \".*\"\n",
    "m = isMatch(s, p)\n",
    "m"
   ]
  },
  {
   "cell_type": "markdown",
   "metadata": {},
   "source": [
    "## More optimal Solution"
   ]
  },
  {
   "cell_type": "markdown",
   "metadata": {},
   "source": [
    "We can use dynamic programming to cache results.\n",
    "We will define a memo variable that holds the results for each i and j."
   ]
  },
  {
   "cell_type": "code",
   "execution_count": 34,
   "metadata": {},
   "outputs": [],
   "source": [
    "def memoizedIsMatch(text, pattern):\n",
    "    memo = {}\n",
    "    def dp(i, j):\n",
    "        if (i, j) not in memo:\n",
    "            # checks if j is at end of pattern\n",
    "            if j == len(pattern):\n",
    "                ## then we check if i is at end of text\n",
    "                ans = i == len(text)\n",
    "            else:\n",
    "                first_match = i < len(text) and pattern[j] in {text[i], '.'}\n",
    "                if j+1 < len(pattern) and pattern[j+1] == '*':\n",
    "                    ans = dp(i, j+2) or first_match and dp(i+1, j)\n",
    "                else:\n",
    "                    ans = first_match and dp(i+1, j+1)\n",
    "\n",
    "            memo[i, j] = ans\n",
    "        return memo[i, j]\n",
    "\n",
    "    return dp(0, 0)"
   ]
  },
  {
   "cell_type": "code",
   "execution_count": 35,
   "metadata": {},
   "outputs": [
    {
     "data": {
      "text/plain": [
       "False"
      ]
     },
     "execution_count": 35,
     "metadata": {},
     "output_type": "execute_result"
    }
   ],
   "source": [
    "s = \"mississippi\"\n",
    "p = \"mis*is*p*.\"\n",
    "m = memoizedIsMatch(s, p)\n",
    "m"
   ]
  },
  {
   "cell_type": "code",
   "execution_count": 36,
   "metadata": {},
   "outputs": [
    {
     "name": "stdout",
     "output_type": "stream",
     "text": [
      "{'a', '.'}\n",
      "{'b', '.'}\n",
      "False\n"
     ]
    },
    {
     "data": {
      "text/plain": [
       "True"
      ]
     },
     "execution_count": 36,
     "metadata": {},
     "output_type": "execute_result"
    }
   ],
   "source": [
    "s = \"ab\"\n",
    "p = \".*\"\n",
    "m = isMatch(s, p)\n",
    "m"
   ]
  },
  {
   "cell_type": "code",
   "execution_count": null,
   "metadata": {},
   "outputs": [],
   "source": []
  }
 ],
 "metadata": {
  "kernelspec": {
   "display_name": "Python 3",
   "language": "python",
   "name": "python3"
  },
  "language_info": {
   "codemirror_mode": {
    "name": "ipython",
    "version": 3
   },
   "file_extension": ".py",
   "mimetype": "text/x-python",
   "name": "python",
   "nbconvert_exporter": "python",
   "pygments_lexer": "ipython3",
   "version": "3.7.3"
  }
 },
 "nbformat": 4,
 "nbformat_minor": 2
}
