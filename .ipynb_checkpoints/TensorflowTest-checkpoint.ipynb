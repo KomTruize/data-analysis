{
  "nbformat": 4,
  "nbformat_minor": 0,
  "metadata": {
    "colab": {
      "name": "TensorflowTest.ipynb",
      "version": "0.3.2",
      "provenance": [],
      "collapsed_sections": [],
      "toc_visible": true,
      "include_colab_link": true
    },
    "kernelspec": {
      "name": "python3",
      "display_name": "Python 3"
    }
  },
  "cells": [
    {
      "cell_type": "markdown",
      "metadata": {
        "id": "view-in-github",
        "colab_type": "text"
      },
      "source": [
        "<a href=\"https://colab.research.google.com/github/timurista/data-analysis/blob/master/TensorflowTest.ipynb\" target=\"_parent\"><img src=\"https://colab.research.google.com/assets/colab-badge.svg\" alt=\"Open In Colab\"/></a>"
      ]
    },
    {
      "cell_type": "code",
      "metadata": {
        "id": "1Q8yZ-dfMaRX",
        "colab_type": "code",
        "outputId": "eaa472e6-52d1-44cc-8a56-7aa3df781795",
        "colab": {
          "base_uri": "https://localhost:8080/",
          "height": 513
        }
      },
      "source": [
        "# Install TensorFlow\n",
        "!pip install tensorflow==2.0.0-beta1\n",
        "!pip install matplotlib\n"
      ],
      "execution_count": 2,
      "outputs": [
        {
          "output_type": "stream",
          "text": [
            "Requirement already satisfied: tensorflow==2.0.0-beta1 in /usr/local/lib/python3.6/dist-packages (2.0.0b1)\n",
            "Requirement already satisfied: termcolor>=1.1.0 in /usr/local/lib/python3.6/dist-packages (from tensorflow==2.0.0-beta1) (1.1.0)\n",
            "Requirement already satisfied: tb-nightly<1.14.0a20190604,>=1.14.0a20190603 in /usr/local/lib/python3.6/dist-packages (from tensorflow==2.0.0-beta1) (1.14.0a20190603)\n",
            "Requirement already satisfied: keras-applications>=1.0.6 in /usr/local/lib/python3.6/dist-packages (from tensorflow==2.0.0-beta1) (1.0.8)\n",
            "Requirement already satisfied: google-pasta>=0.1.6 in /usr/local/lib/python3.6/dist-packages (from tensorflow==2.0.0-beta1) (0.1.7)\n",
            "Requirement already satisfied: wrapt>=1.11.1 in /usr/local/lib/python3.6/dist-packages (from tensorflow==2.0.0-beta1) (1.11.2)\n",
            "Requirement already satisfied: wheel>=0.26 in /usr/local/lib/python3.6/dist-packages (from tensorflow==2.0.0-beta1) (0.33.4)\n",
            "Requirement already satisfied: protobuf>=3.6.1 in /usr/local/lib/python3.6/dist-packages (from tensorflow==2.0.0-beta1) (3.7.1)\n",
            "Requirement already satisfied: numpy<2.0,>=1.14.5 in /usr/local/lib/python3.6/dist-packages (from tensorflow==2.0.0-beta1) (1.16.4)\n",
            "Requirement already satisfied: keras-preprocessing>=1.0.5 in /usr/local/lib/python3.6/dist-packages (from tensorflow==2.0.0-beta1) (1.1.0)\n",
            "Requirement already satisfied: gast>=0.2.0 in /usr/local/lib/python3.6/dist-packages (from tensorflow==2.0.0-beta1) (0.2.2)\n",
            "Requirement already satisfied: grpcio>=1.8.6 in /usr/local/lib/python3.6/dist-packages (from tensorflow==2.0.0-beta1) (1.15.0)\n",
            "Requirement already satisfied: astor>=0.6.0 in /usr/local/lib/python3.6/dist-packages (from tensorflow==2.0.0-beta1) (0.8.0)\n",
            "Requirement already satisfied: six>=1.10.0 in /usr/local/lib/python3.6/dist-packages (from tensorflow==2.0.0-beta1) (1.12.0)\n",
            "Requirement already satisfied: tf-estimator-nightly<1.14.0.dev2019060502,>=1.14.0.dev2019060501 in /usr/local/lib/python3.6/dist-packages (from tensorflow==2.0.0-beta1) (1.14.0.dev2019060501)\n",
            "Requirement already satisfied: absl-py>=0.7.0 in /usr/local/lib/python3.6/dist-packages (from tensorflow==2.0.0-beta1) (0.7.1)\n",
            "Requirement already satisfied: werkzeug>=0.11.15 in /usr/local/lib/python3.6/dist-packages (from tb-nightly<1.14.0a20190604,>=1.14.0a20190603->tensorflow==2.0.0-beta1) (0.15.5)\n",
            "Requirement already satisfied: markdown>=2.6.8 in /usr/local/lib/python3.6/dist-packages (from tb-nightly<1.14.0a20190604,>=1.14.0a20190603->tensorflow==2.0.0-beta1) (3.1.1)\n",
            "Requirement already satisfied: setuptools>=41.0.0 in /usr/local/lib/python3.6/dist-packages (from tb-nightly<1.14.0a20190604,>=1.14.0a20190603->tensorflow==2.0.0-beta1) (41.0.1)\n",
            "Requirement already satisfied: h5py in /usr/local/lib/python3.6/dist-packages (from keras-applications>=1.0.6->tensorflow==2.0.0-beta1) (2.8.0)\n",
            "Requirement already satisfied: matplotlib in /usr/local/lib/python3.6/dist-packages (3.0.3)\n",
            "Requirement already satisfied: numpy>=1.10.0 in /usr/local/lib/python3.6/dist-packages (from matplotlib) (1.16.4)\n",
            "Requirement already satisfied: kiwisolver>=1.0.1 in /usr/local/lib/python3.6/dist-packages (from matplotlib) (1.1.0)\n",
            "Requirement already satisfied: pyparsing!=2.0.4,!=2.1.2,!=2.1.6,>=2.0.1 in /usr/local/lib/python3.6/dist-packages (from matplotlib) (2.4.0)\n",
            "Requirement already satisfied: python-dateutil>=2.1 in /usr/local/lib/python3.6/dist-packages (from matplotlib) (2.5.3)\n",
            "Requirement already satisfied: cycler>=0.10 in /usr/local/lib/python3.6/dist-packages (from matplotlib) (0.10.0)\n",
            "Requirement already satisfied: setuptools in /usr/local/lib/python3.6/dist-packages (from kiwisolver>=1.0.1->matplotlib) (41.0.1)\n",
            "Requirement already satisfied: six>=1.5 in /usr/local/lib/python3.6/dist-packages (from python-dateutil>=2.1->matplotlib) (1.12.0)\n"
          ],
          "name": "stdout"
        }
      ]
    },
    {
      "cell_type": "markdown",
      "metadata": {
        "id": "1wOmmpKVFzXU",
        "colab_type": "text"
      },
      "source": [
        ""
      ]
    },
    {
      "cell_type": "code",
      "metadata": {
        "id": "T-Y02p7qNfNK",
        "colab_type": "code",
        "outputId": "4f4012c8-e568-4cbd-db12-bc30d06a6b1c",
        "colab": {
          "base_uri": "https://localhost:8080/",
          "height": 51
        }
      },
      "source": [
        "import tensorflow as tf\n",
        "import matplotlib.pyplot as plt\n",
        "import numpy as np\n",
        "print(tf.__version__)\n",
        "print(np.__version__)"
      ],
      "execution_count": 5,
      "outputs": [
        {
          "output_type": "stream",
          "text": [
            "2.0.0-beta1\n",
            "1.16.4\n"
          ],
          "name": "stdout"
        }
      ]
    },
    {
      "cell_type": "markdown",
      "metadata": {
        "id": "CAELGpRmM1NU",
        "colab_type": "text"
      },
      "source": [
        "# Initial Start"
      ]
    },
    {
      "cell_type": "markdown",
      "metadata": {
        "id": "lbgZ-_RqMa3X",
        "colab_type": "text"
      },
      "source": [
        "Python 3 tensorflow example"
      ]
    },
    {
      "cell_type": "code",
      "metadata": {
        "id": "a1txH-CFM6ur",
        "colab_type": "code",
        "outputId": "7d54c2cc-8bcb-49d0-99a6-7ec14a4a8e4e",
        "colab": {
          "base_uri": "https://localhost:8080/",
          "height": 34
        }
      },
      "source": [
        "observations = 1000\n",
        "xs = np.random.uniform(low=-10,high=10,size=(observations, 1))\n",
        "zs = np.random.uniform(-10,10,(observations, 1))\n",
        "\n",
        "inputs = np.column_stack((xs,zs))\n",
        "\n",
        "noise = np.random.uniform(-1,1,(observations, 1))\n",
        "\n",
        "targets = 2*xs - 3*zs + 5 + noise\n",
        "\n",
        "print(inputs.shape, noise.shape)"
      ],
      "execution_count": 9,
      "outputs": [
        {
          "output_type": "stream",
          "text": [
            "(1000, 2) (1000, 1)\n"
          ],
          "name": "stdout"
        }
      ]
    },
    {
      "cell_type": "code",
      "metadata": {
        "id": "5Qn3u6mLM8Vr",
        "colab_type": "code",
        "colab": {}
      },
      "source": [
        "np.savez('TF_intro', inputs=inputs, targets=targets)"
      ],
      "execution_count": 0,
      "outputs": []
    },
    {
      "cell_type": "code",
      "metadata": {
        "id": "ihEkO7psGWq9",
        "colab_type": "code",
        "colab": {}
      },
      "source": [
        "training_data = np.load('TF_intro.npz')"
      ],
      "execution_count": 0,
      "outputs": []
    },
    {
      "cell_type": "code",
      "metadata": {
        "id": "2hLFVXonGqIJ",
        "colab_type": "code",
        "colab": {
          "base_uri": "https://localhost:8080/",
          "height": 1000
        },
        "outputId": "db65b1ab-f5dc-4858-cbf0-f94fff36fde0"
      },
      "source": [
        "input_size = 2\n",
        "output_size = 1\n",
        "\n",
        "model = tf.keras.Sequential([\n",
        "    tf.keras.layers.Dense(output_size)\n",
        "])\n",
        "\n",
        "## cusotom optimizer\n",
        "custom_optimizer = tf.keras.optimizers.SGD(learning_rate=0.02)\n",
        "\n",
        "## sgd is stochastic gradient descent\n",
        "model.compile(custom_optimizer, loss=\"mean_squared_error\")\n",
        "model.fit(training_data['inputs'], training_data['targets'], epochs=100, verbose=2)"
      ],
      "execution_count": 27,
      "outputs": [
        {
          "output_type": "stream",
          "text": [
            "Train on 1000 samples\n",
            "Epoch 1/100\n",
            "1000/1000 - 0s - loss: 22.8170\n",
            "Epoch 2/100\n",
            "1000/1000 - 0s - loss: 1.4698\n",
            "Epoch 3/100\n",
            "1000/1000 - 0s - loss: 0.4385\n",
            "Epoch 4/100\n",
            "1000/1000 - 0s - loss: 0.3748\n",
            "Epoch 5/100\n",
            "1000/1000 - 0s - loss: 0.3960\n",
            "Epoch 6/100\n",
            "1000/1000 - 0s - loss: 0.4134\n",
            "Epoch 7/100\n",
            "1000/1000 - 0s - loss: 0.4142\n",
            "Epoch 8/100\n",
            "1000/1000 - 0s - loss: 0.3638\n",
            "Epoch 9/100\n",
            "1000/1000 - 0s - loss: 0.4030\n",
            "Epoch 10/100\n",
            "1000/1000 - 0s - loss: 0.4956\n",
            "Epoch 11/100\n",
            "1000/1000 - 0s - loss: 0.4022\n",
            "Epoch 12/100\n",
            "1000/1000 - 0s - loss: 0.3674\n",
            "Epoch 13/100\n",
            "1000/1000 - 0s - loss: 0.3931\n",
            "Epoch 14/100\n",
            "1000/1000 - 0s - loss: 0.4370\n",
            "Epoch 15/100\n",
            "1000/1000 - 0s - loss: 0.3896\n",
            "Epoch 16/100\n",
            "1000/1000 - 0s - loss: 0.3812\n",
            "Epoch 17/100\n",
            "1000/1000 - 0s - loss: 0.4129\n",
            "Epoch 18/100\n",
            "1000/1000 - 0s - loss: 0.4536\n",
            "Epoch 19/100\n",
            "1000/1000 - 0s - loss: 0.3819\n",
            "Epoch 20/100\n",
            "1000/1000 - 0s - loss: 0.3883\n",
            "Epoch 21/100\n",
            "1000/1000 - 0s - loss: 0.4072\n",
            "Epoch 22/100\n",
            "1000/1000 - 0s - loss: 0.4200\n",
            "Epoch 23/100\n",
            "1000/1000 - 0s - loss: 0.3792\n",
            "Epoch 24/100\n",
            "1000/1000 - 0s - loss: 0.3932\n",
            "Epoch 25/100\n",
            "1000/1000 - 0s - loss: 0.3815\n",
            "Epoch 26/100\n",
            "1000/1000 - 0s - loss: 0.3735\n",
            "Epoch 27/100\n",
            "1000/1000 - 0s - loss: 0.3645\n",
            "Epoch 28/100\n",
            "1000/1000 - 0s - loss: 0.4044\n",
            "Epoch 29/100\n",
            "1000/1000 - 0s - loss: 0.3588\n",
            "Epoch 30/100\n",
            "1000/1000 - 0s - loss: 0.3532\n",
            "Epoch 31/100\n",
            "1000/1000 - 0s - loss: 0.3674\n",
            "Epoch 32/100\n",
            "1000/1000 - 0s - loss: 0.3719\n",
            "Epoch 33/100\n",
            "1000/1000 - 0s - loss: 0.4452\n",
            "Epoch 34/100\n",
            "1000/1000 - 0s - loss: 0.3529\n",
            "Epoch 35/100\n",
            "1000/1000 - 0s - loss: 0.3624\n",
            "Epoch 36/100\n",
            "1000/1000 - 0s - loss: 0.4141\n",
            "Epoch 37/100\n",
            "1000/1000 - 0s - loss: 0.4138\n",
            "Epoch 38/100\n",
            "1000/1000 - 0s - loss: 0.3804\n",
            "Epoch 39/100\n",
            "1000/1000 - 0s - loss: 0.4507\n",
            "Epoch 40/100\n",
            "1000/1000 - 0s - loss: 0.4427\n",
            "Epoch 41/100\n",
            "1000/1000 - 0s - loss: 0.3688\n",
            "Epoch 42/100\n",
            "1000/1000 - 0s - loss: 0.4198\n",
            "Epoch 43/100\n",
            "1000/1000 - 0s - loss: 0.3937\n",
            "Epoch 44/100\n",
            "1000/1000 - 0s - loss: 0.4112\n",
            "Epoch 45/100\n",
            "1000/1000 - 0s - loss: 0.3803\n",
            "Epoch 46/100\n",
            "1000/1000 - 0s - loss: 0.3725\n",
            "Epoch 47/100\n",
            "1000/1000 - 0s - loss: 0.3798\n",
            "Epoch 48/100\n",
            "1000/1000 - 0s - loss: 0.3739\n",
            "Epoch 49/100\n",
            "1000/1000 - 0s - loss: 0.3896\n",
            "Epoch 50/100\n",
            "1000/1000 - 0s - loss: 0.3829\n",
            "Epoch 51/100\n",
            "1000/1000 - 0s - loss: 0.3926\n",
            "Epoch 52/100\n",
            "1000/1000 - 0s - loss: 0.3800\n",
            "Epoch 53/100\n",
            "1000/1000 - 0s - loss: 0.3993\n",
            "Epoch 54/100\n",
            "1000/1000 - 0s - loss: 0.3986\n",
            "Epoch 55/100\n",
            "1000/1000 - 0s - loss: 0.4128\n",
            "Epoch 56/100\n",
            "1000/1000 - 0s - loss: 0.4060\n",
            "Epoch 57/100\n",
            "1000/1000 - 0s - loss: 0.4079\n",
            "Epoch 58/100\n",
            "1000/1000 - 0s - loss: 0.4210\n",
            "Epoch 59/100\n",
            "1000/1000 - 0s - loss: 0.3643\n",
            "Epoch 60/100\n",
            "1000/1000 - 0s - loss: 0.4180\n",
            "Epoch 61/100\n",
            "1000/1000 - 0s - loss: 0.3784\n",
            "Epoch 62/100\n",
            "1000/1000 - 0s - loss: 0.3853\n",
            "Epoch 63/100\n",
            "1000/1000 - 0s - loss: 0.3818\n",
            "Epoch 64/100\n",
            "1000/1000 - 0s - loss: 0.4125\n",
            "Epoch 65/100\n",
            "1000/1000 - 0s - loss: 0.4080\n",
            "Epoch 66/100\n",
            "1000/1000 - 0s - loss: 0.3878\n",
            "Epoch 67/100\n",
            "1000/1000 - 0s - loss: 0.3546\n",
            "Epoch 68/100\n",
            "1000/1000 - 0s - loss: 0.3666\n",
            "Epoch 69/100\n",
            "1000/1000 - 0s - loss: 0.4044\n",
            "Epoch 70/100\n",
            "1000/1000 - 0s - loss: 0.3840\n",
            "Epoch 71/100\n",
            "1000/1000 - 0s - loss: 0.4658\n",
            "Epoch 72/100\n",
            "1000/1000 - 0s - loss: 0.3780\n",
            "Epoch 73/100\n",
            "1000/1000 - 0s - loss: 0.3793\n",
            "Epoch 74/100\n",
            "1000/1000 - 0s - loss: 0.4025\n",
            "Epoch 75/100\n",
            "1000/1000 - 0s - loss: 0.4185\n",
            "Epoch 76/100\n",
            "1000/1000 - 0s - loss: 0.3910\n",
            "Epoch 77/100\n",
            "1000/1000 - 0s - loss: 0.3819\n",
            "Epoch 78/100\n",
            "1000/1000 - 0s - loss: 0.3882\n",
            "Epoch 79/100\n",
            "1000/1000 - 0s - loss: 0.3796\n",
            "Epoch 80/100\n",
            "1000/1000 - 0s - loss: 0.3769\n",
            "Epoch 81/100\n",
            "1000/1000 - 0s - loss: 0.3945\n",
            "Epoch 82/100\n",
            "1000/1000 - 0s - loss: 0.3760\n",
            "Epoch 83/100\n",
            "1000/1000 - 0s - loss: 0.3847\n",
            "Epoch 84/100\n",
            "1000/1000 - 0s - loss: 0.4134\n",
            "Epoch 85/100\n",
            "1000/1000 - 0s - loss: 0.3823\n",
            "Epoch 86/100\n",
            "1000/1000 - 0s - loss: 0.4023\n",
            "Epoch 87/100\n",
            "1000/1000 - 0s - loss: 0.4031\n",
            "Epoch 88/100\n",
            "1000/1000 - 0s - loss: 0.3937\n",
            "Epoch 89/100\n",
            "1000/1000 - 0s - loss: 0.3869\n",
            "Epoch 90/100\n",
            "1000/1000 - 0s - loss: 0.3882\n",
            "Epoch 91/100\n",
            "1000/1000 - 0s - loss: 0.3903\n",
            "Epoch 92/100\n",
            "1000/1000 - 0s - loss: 0.3838\n",
            "Epoch 93/100\n",
            "1000/1000 - 0s - loss: 0.3892\n",
            "Epoch 94/100\n",
            "1000/1000 - 0s - loss: 0.3881\n",
            "Epoch 95/100\n",
            "1000/1000 - 0s - loss: 0.3853\n",
            "Epoch 96/100\n",
            "1000/1000 - 0s - loss: 0.3629\n",
            "Epoch 97/100\n",
            "1000/1000 - 0s - loss: 0.3666\n",
            "Epoch 98/100\n",
            "1000/1000 - 0s - loss: 0.3652\n",
            "Epoch 99/100\n",
            "1000/1000 - 0s - loss: 0.4228\n",
            "Epoch 100/100\n",
            "1000/1000 - 0s - loss: 0.3891\n"
          ],
          "name": "stdout"
        },
        {
          "output_type": "execute_result",
          "data": {
            "text/plain": [
              "<tensorflow.python.keras.callbacks.History at 0x7f5252aa4860>"
            ]
          },
          "metadata": {
            "tags": []
          },
          "execution_count": 27
        }
      ]
    },
    {
      "cell_type": "code",
      "metadata": {
        "id": "jVNXHpZgICSk",
        "colab_type": "code",
        "colab": {
          "base_uri": "https://localhost:8080/",
          "height": 51
        },
        "outputId": "6a6d6456-8e2a-4859-aeea-b6603aa4bc53"
      },
      "source": [
        "model.layers[0].get_weights()"
      ],
      "execution_count": 28,
      "outputs": [
        {
          "output_type": "execute_result",
          "data": {
            "text/plain": [
              "[array([[ 2.0229752],\n",
              "        [-2.9728978]], dtype=float32), array([5.0430207], dtype=float32)]"
            ]
          },
          "metadata": {
            "tags": []
          },
          "execution_count": 28
        }
      ]
    },
    {
      "cell_type": "code",
      "metadata": {
        "id": "o3uOb0B3IaNa",
        "colab_type": "code",
        "colab": {}
      },
      "source": [
        "predicted = model.predict_on_batch(training_data['inputs']).round(1)"
      ],
      "execution_count": 0,
      "outputs": []
    },
    {
      "cell_type": "code",
      "metadata": {
        "id": "4j_UuehaIlnx",
        "colab_type": "code",
        "colab": {}
      },
      "source": [
        "actual = training_data['targets'].round(1)"
      ],
      "execution_count": 0,
      "outputs": []
    },
    {
      "cell_type": "markdown",
      "metadata": {
        "id": "Ned7skyOKEz7",
        "colab_type": "text"
      },
      "source": [
        ""
      ]
    },
    {
      "cell_type": "code",
      "metadata": {
        "id": "NeuaRdT3Is9q",
        "colab_type": "code",
        "colab": {}
      },
      "source": [
        "## Plot outputs vs targets"
      ],
      "execution_count": 0,
      "outputs": []
    },
    {
      "cell_type": "code",
      "metadata": {
        "id": "bS0PlGs7JC5_",
        "colab_type": "code",
        "colab": {
          "base_uri": "https://localhost:8080/",
          "height": 283
        },
        "outputId": "fc935480-db76-4379-98a0-4846e9dec695"
      },
      "source": [
        "plt.plot(np.squeeze(predicted), np.squeeze(actual))\n",
        "plt.xlabel('output')\n",
        "plt.ylabel('targets')\n",
        "plt.show()"
      ],
      "execution_count": 32,
      "outputs": [
        {
          "output_type": "display_data",
          "data": {
            "image/png": "[encoded data removed]",
            "text/plain": [
              "<Figure size 432x288 with 1 Axes>"
            ]
          },
          "metadata": {
            "tags": []
          }
        }
      ]
    },
    {
      "cell_type": "code",
      "metadata": {
        "id": "4Rgej0HCJWTX",
        "colab_type": "code",
        "colab": {}
      },
      "source": [
        ""
      ],
      "execution_count": 0,
      "outputs": []
    }
  ]
}