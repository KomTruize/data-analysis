{
  "nbformat": 4,
  "nbformat_minor": 0,
  "metadata": {
    "colab": {
      "name": "AudioBooks_ML_part2.ipynb",
      "version": "0.3.2",
      "provenance": [],
      "collapsed_sections": []
    },
    "kernelspec": {
      "name": "python3",
      "display_name": "Python 3"
    }
  },
  "cells": [
    {
      "cell_type": "code",
      "metadata": {
        "id": "8N5nXc7dbZhf",
        "colab_type": "code",
        "colab": {
          "base_uri": "https://localhost:8080/",
          "height": 598
        },
        "outputId": "381417cb-c4dd-4727-bb4d-84d38d4cb6a7"
      },
      "source": [
        "# Install TensorFlow\n",
        "!pip install tensorflow==2.0.0-beta1\n",
        "!pip install matplotlib\n",
        "!pip install sklearn"
      ],
      "execution_count": 1,
      "outputs": [
        {
          "output_type": "stream",
          "text": [
            "Requirement already satisfied: tensorflow==2.0.0-beta1 in /usr/local/lib/python3.6/dist-packages (2.0.0b1)\n",
            "Requirement already satisfied: gast>=0.2.0 in /usr/local/lib/python3.6/dist-packages (from tensorflow==2.0.0-beta1) (0.2.2)\n",
            "Requirement already satisfied: wheel>=0.26 in /usr/local/lib/python3.6/dist-packages (from tensorflow==2.0.0-beta1) (0.33.4)\n",
            "Requirement already satisfied: keras-preprocessing>=1.0.5 in /usr/local/lib/python3.6/dist-packages (from tensorflow==2.0.0-beta1) (1.1.0)\n",
            "Requirement already satisfied: wrapt>=1.11.1 in /usr/local/lib/python3.6/dist-packages (from tensorflow==2.0.0-beta1) (1.11.2)\n",
            "Requirement already satisfied: google-pasta>=0.1.6 in /usr/local/lib/python3.6/dist-packages (from tensorflow==2.0.0-beta1) (0.1.7)\n",
            "Requirement already satisfied: six>=1.10.0 in /usr/local/lib/python3.6/dist-packages (from tensorflow==2.0.0-beta1) (1.12.0)\n",
            "Requirement already satisfied: tb-nightly<1.14.0a20190604,>=1.14.0a20190603 in /usr/local/lib/python3.6/dist-packages (from tensorflow==2.0.0-beta1) (1.14.0a20190603)\n",
            "Requirement already satisfied: astor>=0.6.0 in /usr/local/lib/python3.6/dist-packages (from tensorflow==2.0.0-beta1) (0.8.0)\n",
            "Requirement already satisfied: protobuf>=3.6.1 in /usr/local/lib/python3.6/dist-packages (from tensorflow==2.0.0-beta1) (3.7.1)\n",
            "Requirement already satisfied: grpcio>=1.8.6 in /usr/local/lib/python3.6/dist-packages (from tensorflow==2.0.0-beta1) (1.15.0)\n",
            "Requirement already satisfied: termcolor>=1.1.0 in /usr/local/lib/python3.6/dist-packages (from tensorflow==2.0.0-beta1) (1.1.0)\n",
            "Requirement already satisfied: keras-applications>=1.0.6 in /usr/local/lib/python3.6/dist-packages (from tensorflow==2.0.0-beta1) (1.0.8)\n",
            "Requirement already satisfied: tf-estimator-nightly<1.14.0.dev2019060502,>=1.14.0.dev2019060501 in /usr/local/lib/python3.6/dist-packages (from tensorflow==2.0.0-beta1) (1.14.0.dev2019060501)\n",
            "Requirement already satisfied: absl-py>=0.7.0 in /usr/local/lib/python3.6/dist-packages (from tensorflow==2.0.0-beta1) (0.7.1)\n",
            "Requirement already satisfied: numpy<2.0,>=1.14.5 in /usr/local/lib/python3.6/dist-packages (from tensorflow==2.0.0-beta1) (1.16.4)\n",
            "Requirement already satisfied: werkzeug>=0.11.15 in /usr/local/lib/python3.6/dist-packages (from tb-nightly<1.14.0a20190604,>=1.14.0a20190603->tensorflow==2.0.0-beta1) (0.15.5)\n",
            "Requirement already satisfied: markdown>=2.6.8 in /usr/local/lib/python3.6/dist-packages (from tb-nightly<1.14.0a20190604,>=1.14.0a20190603->tensorflow==2.0.0-beta1) (3.1.1)\n",
            "Requirement already satisfied: setuptools>=41.0.0 in /usr/local/lib/python3.6/dist-packages (from tb-nightly<1.14.0a20190604,>=1.14.0a20190603->tensorflow==2.0.0-beta1) (41.0.1)\n",
            "Requirement already satisfied: h5py in /usr/local/lib/python3.6/dist-packages (from keras-applications>=1.0.6->tensorflow==2.0.0-beta1) (2.8.0)\n",
            "Requirement already satisfied: matplotlib in /usr/local/lib/python3.6/dist-packages (3.0.3)\n",
            "Requirement already satisfied: python-dateutil>=2.1 in /usr/local/lib/python3.6/dist-packages (from matplotlib) (2.5.3)\n",
            "Requirement already satisfied: cycler>=0.10 in /usr/local/lib/python3.6/dist-packages (from matplotlib) (0.10.0)\n",
            "Requirement already satisfied: numpy>=1.10.0 in /usr/local/lib/python3.6/dist-packages (from matplotlib) (1.16.4)\n",
            "Requirement already satisfied: kiwisolver>=1.0.1 in /usr/local/lib/python3.6/dist-packages (from matplotlib) (1.1.0)\n",
            "Requirement already satisfied: pyparsing!=2.0.4,!=2.1.2,!=2.1.6,>=2.0.1 in /usr/local/lib/python3.6/dist-packages (from matplotlib) (2.4.2)\n",
            "Requirement already satisfied: six>=1.5 in /usr/local/lib/python3.6/dist-packages (from python-dateutil>=2.1->matplotlib) (1.12.0)\n",
            "Requirement already satisfied: setuptools in /usr/local/lib/python3.6/dist-packages (from kiwisolver>=1.0.1->matplotlib) (41.0.1)\n",
            "Requirement already satisfied: sklearn in /usr/local/lib/python3.6/dist-packages (0.0)\n",
            "Requirement already satisfied: scikit-learn in /usr/local/lib/python3.6/dist-packages (from sklearn) (0.21.3)\n",
            "Requirement already satisfied: joblib>=0.11 in /usr/local/lib/python3.6/dist-packages (from scikit-learn->sklearn) (0.13.2)\n",
            "Requirement already satisfied: scipy>=0.17.0 in /usr/local/lib/python3.6/dist-packages (from scikit-learn->sklearn) (1.3.0)\n",
            "Requirement already satisfied: numpy>=1.11.0 in /usr/local/lib/python3.6/dist-packages (from scikit-learn->sklearn) (1.16.4)\n"
          ],
          "name": "stdout"
        }
      ]
    },
    {
      "cell_type": "code",
      "metadata": {
        "id": "Ry3brTfKbgcq",
        "colab_type": "code",
        "colab": {}
      },
      "source": [
        "## Code\n",
        "import numpy as np\n",
        "from sklearn import preprocessing \n",
        "import tensorflow as tf\n",
        "import pandas as pd"
      ],
      "execution_count": 0,
      "outputs": []
    },
    {
      "cell_type": "markdown",
      "metadata": {
        "id": "cZkUWJN0bqjm",
        "colab_type": "text"
      },
      "source": [
        "# Get Data and Mount it"
      ]
    },
    {
      "cell_type": "code",
      "metadata": {
        "id": "nz0_WBEWbtBl",
        "colab_type": "code",
        "colab": {
          "base_uri": "https://localhost:8080/",
          "height": 122
        },
        "outputId": "d40043cb-a952-4c7e-8a4e-9eeaff921377"
      },
      "source": [
        "from google.colab import drive\n",
        "drive.mount('/content/drive')"
      ],
      "execution_count": 3,
      "outputs": [
        {
          "output_type": "stream",
          "text": [
            "Go to this URL in a browser: https://accounts.google.com/o/oauth2/auth?client_id=947318989803-6bn6qk8qdgf4n4g3pfee6491hc0brc4i.apps.googleusercontent.com&redirect_uri=urn%3Aietf%3Awg%3Aoauth%3A2.0%3Aoob&scope=email%20https%3A%2F%2Fwww.googleapis.com%2Fauth%2Fdocs.test%20https%3A%2F%2Fwww.googleapis.com%2Fauth%2Fdrive%20https%3A%2F%2Fwww.googleapis.com%2Fauth%2Fdrive.photos.readonly%20https%3A%2F%2Fwww.googleapis.com%2Fauth%2Fpeopleapi.readonly&response_type=code\n",
            "\n",
            "Enter your authorization code:\n",
            "··········\n",
            "Mounted at /content/drive\n"
          ],
          "name": "stdout"
        }
      ]
    },
    {
      "cell_type": "code",
      "metadata": {
        "id": "UP0vcUD9buvd",
        "colab_type": "code",
        "colab": {}
      },
      "source": [
        "## train\n",
        "npz = np.load('/content/drive/My Drive/machine_learning_data/Audiobooks_data_train.npz')\n",
        "train_inputs = npz['inputs'].astype(np.float)\n",
        "train_targets = npz['targets'].astype(np.int)\n",
        "\n",
        "## validate\n",
        "npz = np.load('/content/drive/My Drive/machine_learning_data/Audiobooks_data_validation.npz')\n",
        "validation_inputs = npz['inputs'].astype(np.float)\n",
        "validation_targets = npz['targets'].astype(np.int)\n",
        "\n",
        "## test\n",
        "npz = np.load('/content/drive/My Drive/machine_learning_data/Audiobooks_data_test.npz')\n",
        "test_inputs = npz['inputs'].astype(np.float)\n",
        "test_targets = npz['targets'].astype(np.int)"
      ],
      "execution_count": 0,
      "outputs": []
    },
    {
      "cell_type": "markdown",
      "metadata": {
        "id": "SjgQ0iTHl2bk",
        "colab_type": "text"
      },
      "source": [
        "## Model"
      ]
    },
    {
      "cell_type": "code",
      "metadata": {
        "id": "lk8E10oil1rg",
        "colab_type": "code",
        "colab": {
          "base_uri": "https://localhost:8080/",
          "height": 629
        },
        "outputId": "7499b313-6bec-4de5-d510-f710f5715d56"
      },
      "source": [
        "input_size = 10 ## 10 inputs\n",
        "output_size = 2 ## target 0 or 1\n",
        "hidden_layer_size = 150\n",
        "\n",
        "model = tf.keras.Sequential([\n",
        "    tf.keras.layers.Dense(hidden_layer_size, activation='relu'),\n",
        "    tf.keras.layers.Dense(hidden_layer_size, activation='relu'),\n",
        "    tf.keras.layers.Dense(hidden_layer_size, activation='relu'),\n",
        "    tf.keras.layers.Dense(output_size, activation='softmax')\n",
        "])\n",
        "\n",
        "model.compile(optimizer='adam', loss='sparse_categorical_crossentropy', metrics=['accuracy'])\n",
        "\n",
        "batch_size = 1000\n",
        "max_epochs = 100\n",
        "\n",
        "## prevent overfitting\n",
        "early_stopping = tf.keras.callbacks.EarlyStopping(patience=2)\n",
        "\n",
        "model.fit(train_inputs, \n",
        "          train_targets,\n",
        "          batch_size = batch_size,\n",
        "          epochs = max_epochs,\n",
        "          callbacks = [early_stopping],\n",
        "          validation_data = (validation_inputs, validation_targets),\n",
        "          verbose = 2\n",
        "         )"
      ],
      "execution_count": 51,
      "outputs": [
        {
          "output_type": "stream",
          "text": [
            "Train on 3579 samples, validate on 447 samples\n",
            "Epoch 1/100\n",
            "3579/3579 - 0s - loss: 0.6310 - accuracy: 0.6921 - val_loss: 0.5375 - val_accuracy: 0.8412\n",
            "Epoch 2/100\n",
            "3579/3579 - 0s - loss: 0.5040 - accuracy: 0.8460 - val_loss: 0.4298 - val_accuracy: 0.8702\n",
            "Epoch 3/100\n",
            "3579/3579 - 0s - loss: 0.4118 - accuracy: 0.8642 - val_loss: 0.3494 - val_accuracy: 0.8814\n",
            "Epoch 4/100\n",
            "3579/3579 - 0s - loss: 0.3558 - accuracy: 0.8726 - val_loss: 0.3067 - val_accuracy: 0.8859\n",
            "Epoch 5/100\n",
            "3579/3579 - 0s - loss: 0.3316 - accuracy: 0.8773 - val_loss: 0.2903 - val_accuracy: 0.8881\n",
            "Epoch 6/100\n",
            "3579/3579 - 0s - loss: 0.3187 - accuracy: 0.8832 - val_loss: 0.2811 - val_accuracy: 0.8949\n",
            "Epoch 7/100\n",
            "3579/3579 - 0s - loss: 0.3023 - accuracy: 0.8852 - val_loss: 0.2751 - val_accuracy: 0.8949\n",
            "Epoch 8/100\n",
            "3579/3579 - 0s - loss: 0.2884 - accuracy: 0.8888 - val_loss: 0.2707 - val_accuracy: 0.9016\n",
            "Epoch 9/100\n",
            "3579/3579 - 0s - loss: 0.2826 - accuracy: 0.8910 - val_loss: 0.2670 - val_accuracy: 0.9016\n",
            "Epoch 10/100\n",
            "3579/3579 - 0s - loss: 0.2735 - accuracy: 0.8977 - val_loss: 0.2586 - val_accuracy: 0.9016\n",
            "Epoch 11/100\n",
            "3579/3579 - 0s - loss: 0.2660 - accuracy: 0.8980 - val_loss: 0.2572 - val_accuracy: 0.8993\n",
            "Epoch 12/100\n",
            "3579/3579 - 0s - loss: 0.2621 - accuracy: 0.8994 - val_loss: 0.2542 - val_accuracy: 0.8993\n",
            "Epoch 13/100\n",
            "3579/3579 - 0s - loss: 0.2579 - accuracy: 0.8980 - val_loss: 0.2495 - val_accuracy: 0.9038\n",
            "Epoch 14/100\n",
            "3579/3579 - 0s - loss: 0.2533 - accuracy: 0.9036 - val_loss: 0.2469 - val_accuracy: 0.9038\n",
            "Epoch 15/100\n",
            "3579/3579 - 0s - loss: 0.2506 - accuracy: 0.9042 - val_loss: 0.2453 - val_accuracy: 0.9016\n",
            "Epoch 16/100\n",
            "3579/3579 - 0s - loss: 0.2494 - accuracy: 0.9022 - val_loss: 0.2459 - val_accuracy: 0.8993\n",
            "Epoch 17/100\n",
            "3579/3579 - 0s - loss: 0.2543 - accuracy: 0.9047 - val_loss: 0.2646 - val_accuracy: 0.9038\n"
          ],
          "name": "stdout"
        },
        {
          "output_type": "execute_result",
          "data": {
            "text/plain": [
              "<tensorflow.python.keras.callbacks.History at 0x7f92177b3b00>"
            ]
          },
          "metadata": {
            "tags": []
          },
          "execution_count": 51
        }
      ]
    },
    {
      "cell_type": "markdown",
      "metadata": {
        "id": "WC6u1NE4nQxP",
        "colab_type": "text"
      },
      "source": [
        "Problem first: need to early stop and prevent overfitting.\n",
        "To fix this, we used the early stopping callback provided by keras.\n",
        "\n"
      ]
    },
    {
      "cell_type": "markdown",
      "metadata": {
        "id": "HRQ9kKm_odIU",
        "colab_type": "text"
      },
      "source": [
        "## Testing"
      ]
    },
    {
      "cell_type": "code",
      "metadata": {
        "id": "lx334gGJcUrD",
        "colab_type": "code",
        "colab": {
          "base_uri": "https://localhost:8080/",
          "height": 34
        },
        "outputId": "43f129a4-d6ba-4108-aefa-af16a85ba55d"
      },
      "source": [
        "test_loss, test_accuracy = model.evaluate(test_inputs, test_targets)"
      ],
      "execution_count": 52,
      "outputs": [
        {
          "output_type": "stream",
          "text": [
            "448/448 [==============================] - 0s 121us/sample - loss: 0.2178 - accuracy: 0.9286\n"
          ],
          "name": "stdout"
        }
      ]
    },
    {
      "cell_type": "code",
      "metadata": {
        "id": "XJNqX94Comvv",
        "colab_type": "code",
        "colab": {
          "base_uri": "https://localhost:8080/",
          "height": 34
        },
        "outputId": "6f8e5bab-df1c-4dce-ac48-bffe97f97f49"
      },
      "source": [
        "print('Test loss: {0:.2f}, accuracy: {1:.2f}%'.format(test_loss, test_accuracy * 100))"
      ],
      "execution_count": 45,
      "outputs": [
        {
          "output_type": "stream",
          "text": [
            "Test loss: 0.23, accuracy: 92.86%\n"
          ],
          "name": "stdout"
        }
      ]
    },
    {
      "cell_type": "code",
      "metadata": {
        "id": "-jBHRe93pCs_",
        "colab_type": "code",
        "colab": {}
      },
      "source": [
        ""
      ],
      "execution_count": 0,
      "outputs": []
    }
  ]
}