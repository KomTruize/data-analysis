{
  "nbformat": 4,
  "nbformat_minor": 0,
  "metadata": {
    "colab": {
      "name": "AudioBooksTest.ipynb",
      "version": "0.3.2",
      "provenance": [],
      "toc_visible": true
    },
    "kernelspec": {
      "name": "python3",
      "display_name": "Python 3"
    }
  },
  "cells": [
    {
      "cell_type": "code",
      "metadata": {
        "id": "OeQ-6Ac7eA1J",
        "colab_type": "code",
        "colab": {
          "base_uri": "https://localhost:8080/",
          "height": 513
        },
        "outputId": "1dd653ba-acd4-4f32-bc5c-9462be7092db"
      },
      "source": [
        "# Install TensorFlow\n",
        "!pip install tensorflow==2.0.0-beta1\n",
        "!pip install matplotlib\n"
      ],
      "execution_count": 1,
      "outputs": [
        {
          "output_type": "stream",
          "text": [
            "Requirement already satisfied: tensorflow==2.0.0-beta1 in /usr/local/lib/python3.6/dist-packages (2.0.0b1)\n",
            "Requirement already satisfied: absl-py>=0.7.0 in /usr/local/lib/python3.6/dist-packages (from tensorflow==2.0.0-beta1) (0.7.1)\n",
            "Requirement already satisfied: numpy<2.0,>=1.14.5 in /usr/local/lib/python3.6/dist-packages (from tensorflow==2.0.0-beta1) (1.16.4)\n",
            "Requirement already satisfied: gast>=0.2.0 in /usr/local/lib/python3.6/dist-packages (from tensorflow==2.0.0-beta1) (0.2.2)\n",
            "Requirement already satisfied: keras-applications>=1.0.6 in /usr/local/lib/python3.6/dist-packages (from tensorflow==2.0.0-beta1) (1.0.8)\n",
            "Requirement already satisfied: astor>=0.6.0 in /usr/local/lib/python3.6/dist-packages (from tensorflow==2.0.0-beta1) (0.8.0)\n",
            "Requirement already satisfied: google-pasta>=0.1.6 in /usr/local/lib/python3.6/dist-packages (from tensorflow==2.0.0-beta1) (0.1.7)\n",
            "Requirement already satisfied: tf-estimator-nightly<1.14.0.dev2019060502,>=1.14.0.dev2019060501 in /usr/local/lib/python3.6/dist-packages (from tensorflow==2.0.0-beta1) (1.14.0.dev2019060501)\n",
            "Requirement already satisfied: keras-preprocessing>=1.0.5 in /usr/local/lib/python3.6/dist-packages (from tensorflow==2.0.0-beta1) (1.1.0)\n",
            "Requirement already satisfied: six>=1.10.0 in /usr/local/lib/python3.6/dist-packages (from tensorflow==2.0.0-beta1) (1.12.0)\n",
            "Requirement already satisfied: wrapt>=1.11.1 in /usr/local/lib/python3.6/dist-packages (from tensorflow==2.0.0-beta1) (1.11.2)\n",
            "Requirement already satisfied: grpcio>=1.8.6 in /usr/local/lib/python3.6/dist-packages (from tensorflow==2.0.0-beta1) (1.15.0)\n",
            "Requirement already satisfied: protobuf>=3.6.1 in /usr/local/lib/python3.6/dist-packages (from tensorflow==2.0.0-beta1) (3.7.1)\n",
            "Requirement already satisfied: tb-nightly<1.14.0a20190604,>=1.14.0a20190603 in /usr/local/lib/python3.6/dist-packages (from tensorflow==2.0.0-beta1) (1.14.0a20190603)\n",
            "Requirement already satisfied: wheel>=0.26 in /usr/local/lib/python3.6/dist-packages (from tensorflow==2.0.0-beta1) (0.33.4)\n",
            "Requirement already satisfied: termcolor>=1.1.0 in /usr/local/lib/python3.6/dist-packages (from tensorflow==2.0.0-beta1) (1.1.0)\n",
            "Requirement already satisfied: h5py in /usr/local/lib/python3.6/dist-packages (from keras-applications>=1.0.6->tensorflow==2.0.0-beta1) (2.8.0)\n",
            "Requirement already satisfied: setuptools in /usr/local/lib/python3.6/dist-packages (from protobuf>=3.6.1->tensorflow==2.0.0-beta1) (41.0.1)\n",
            "Requirement already satisfied: markdown>=2.6.8 in /usr/local/lib/python3.6/dist-packages (from tb-nightly<1.14.0a20190604,>=1.14.0a20190603->tensorflow==2.0.0-beta1) (3.1.1)\n",
            "Requirement already satisfied: werkzeug>=0.11.15 in /usr/local/lib/python3.6/dist-packages (from tb-nightly<1.14.0a20190604,>=1.14.0a20190603->tensorflow==2.0.0-beta1) (0.15.5)\n",
            "Requirement already satisfied: matplotlib in /usr/local/lib/python3.6/dist-packages (3.0.3)\n",
            "Requirement already satisfied: pyparsing!=2.0.4,!=2.1.2,!=2.1.6,>=2.0.1 in /usr/local/lib/python3.6/dist-packages (from matplotlib) (2.4.2)\n",
            "Requirement already satisfied: kiwisolver>=1.0.1 in /usr/local/lib/python3.6/dist-packages (from matplotlib) (1.1.0)\n",
            "Requirement already satisfied: cycler>=0.10 in /usr/local/lib/python3.6/dist-packages (from matplotlib) (0.10.0)\n",
            "Requirement already satisfied: python-dateutil>=2.1 in /usr/local/lib/python3.6/dist-packages (from matplotlib) (2.5.3)\n",
            "Requirement already satisfied: numpy>=1.10.0 in /usr/local/lib/python3.6/dist-packages (from matplotlib) (1.16.4)\n",
            "Requirement already satisfied: setuptools in /usr/local/lib/python3.6/dist-packages (from kiwisolver>=1.0.1->matplotlib) (41.0.1)\n",
            "Requirement already satisfied: six in /usr/local/lib/python3.6/dist-packages (from cycler>=0.10->matplotlib) (1.12.0)\n"
          ],
          "name": "stdout"
        }
      ]
    },
    {
      "cell_type": "code",
      "metadata": {
        "id": "R7BVmVrHePvL",
        "colab_type": "code",
        "colab": {}
      },
      "source": [
        "## Code\n",
        "import numpy as np\n",
        "import tensorflow as tf\n",
        "import pandas as pd"
      ],
      "execution_count": 0,
      "outputs": []
    },
    {
      "cell_type": "markdown",
      "metadata": {
        "id": "a5PI-_UdeHQd",
        "colab_type": "text"
      },
      "source": [
        "## Collect the data"
      ]
    },
    {
      "cell_type": "code",
      "metadata": {
        "id": "vSaibwrMfwB8",
        "colab_type": "code",
        "colab": {
          "base_uri": "https://localhost:8080/",
          "height": 122
        },
        "outputId": "92f57698-8cf6-4166-fdde-2b6091c3c540"
      },
      "source": [
        "from google.colab import drive\n",
        "drive.mount('/content/drive')"
      ],
      "execution_count": 2,
      "outputs": [
        {
          "output_type": "stream",
          "text": [
            "Go to this URL in a browser: https://accounts.google.com/o/oauth2/auth?client_id=947318989803-6bn6qk8qdgf4n4g3pfee6491hc0brc4i.apps.googleusercontent.com&redirect_uri=urn%3Aietf%3Awg%3Aoauth%3A2.0%3Aoob&scope=email%20https%3A%2F%2Fwww.googleapis.com%2Fauth%2Fdocs.test%20https%3A%2F%2Fwww.googleapis.com%2Fauth%2Fdrive%20https%3A%2F%2Fwww.googleapis.com%2Fauth%2Fdrive.photos.readonly%20https%3A%2F%2Fwww.googleapis.com%2Fauth%2Fpeopleapi.readonly&response_type=code\n",
            "\n",
            "Enter your authorization code:\n",
            "··········\n",
            "Mounted at /content/drive\n"
          ],
          "name": "stdout"
        }
      ]
    },
    {
      "cell_type": "code",
      "metadata": {
        "id": "BAjQLAs7g0-F",
        "colab_type": "code",
        "colab": {}
      },
      "source": [
        "data = pd.read_csv('/content/drive/My Drive/machine_learning_data/Audiobooks_data.csv')\n",
        "# original source: https://www.dropbox.com/sh/fdqk8i4crvb9ox4/AAB7oVvIDQ7-yOGXTJimyyaJa?dl=0&preview=Audiobooks_data.csv"
      ],
      "execution_count": 0,
      "outputs": []
    },
    {
      "cell_type": "code",
      "metadata": {
        "id": "FfzOaLDhg4Iy",
        "colab_type": "code",
        "colab": {
          "base_uri": "https://localhost:8080/",
          "height": 1000
        },
        "outputId": "28bc4c6c-6cfa-439c-d384-d1833fa0ce7d"
      },
      "source": [
        "data.head"
      ],
      "execution_count": 7,
      "outputs": [
        {
          "output_type": "execute_result",
          "data": {
            "text/plain": [
              "<bound method NDFrame.head of          873    2160  2160.1  10.13  10.13.1  0   8.91   0.1  0.2  0.3  0.4  1\n",
              "0        611  1404.0    2808   6.66    13.33  1   6.50  0.00  0.0    0  182  1\n",
              "1        705   324.0     324  10.13    10.13  1   9.00  0.00  0.0    1  334  1\n",
              "2        391  1620.0    1620  15.31    15.31  0   9.00  0.00  0.0    0  183  1\n",
              "3        819   432.0    1296   7.11    21.33  1   9.00  0.00  0.0    0    0  1\n",
              "4        138  2160.0    2160  10.13    10.13  1   9.00  0.00  0.0    0    5  1\n",
              "5        396  1404.0    2808   6.67    13.33  0   7.00  0.00  0.0    0   90  1\n",
              "6        111  1231.2    6156   7.15    35.73  0   9.00  0.00  0.0    0    2  1\n",
              "7        348  1188.0    1188   6.92     6.92  0   8.91  0.00  0.0    0    2  1\n",
              "8        160  1188.0    1188   8.61     8.61  0   8.91  0.00  0.0    0   60  1\n",
              "9         86  1134.0    2268  10.13    20.27  1  10.00  0.00  0.0    0  282  1\n",
              "10       545  1620.0    1620   5.33     5.33  0   8.00  0.00  0.0    0   33  1\n",
              "11       178  1188.0    1188  10.13    10.13  1  10.00  0.00  0.0    0  192  1\n",
              "12       961   756.0    1512   7.73    15.47  0   8.91  0.00  0.0    0    0  1\n",
              "13       280  1188.0    1188  10.13    10.13  0   8.91  0.00  0.0    1  113  1\n",
              "14       118   540.0     540   5.33     5.33  0   8.91  0.00  0.0    0   46  1\n",
              "15       919  1404.0    2808   5.33    10.67  0   8.91  0.00  0.0    0    0  1\n",
              "16       792  1674.0    3348   7.18    14.37  0   8.91  0.00  0.0    0  132  1\n",
              "17       821  1620.0    1620   5.87     5.87  0   8.91  0.00  0.0    0  253  1\n",
              "18       854  2160.0    2160   5.87     5.87  0   8.91  0.00  0.0    0   30  1\n",
              "19       880  1620.0    1620   6.14     6.14  1   9.00  0.00  0.0    0  294  1\n",
              "20       943  1188.0    1188   5.87     5.87  0   8.91  0.00  0.0    0    0  1\n",
              "21       539  1188.0    1188   6.40     6.40  0   8.91  0.00  0.0    0    0  1\n",
              "22       589   756.0    1512   7.20    14.40  0   8.91  0.00  0.0    0    0  1\n",
              "23       354  1620.0    1620   6.93     6.93  0   8.91  0.00  0.0    0    0  1\n",
              "24       912  2160.0    2160   7.46     7.46  0   8.91  0.00  0.0    0   82  1\n",
              "25       788  2160.0    2160   8.00     8.00  0   8.91  0.00  0.0    0  152  1\n",
              "26       903   648.0     648  50.67    50.67  0   8.91  0.00  0.0    0  152  1\n",
              "27       366   648.0     648   5.33     5.33  1  10.00  0.00  0.0    0    0  1\n",
              "28       843  1620.0    1620   5.33     5.33  0   8.91  0.00  0.0    0   65  1\n",
              "29       233  1404.0    2808   5.33    10.67  0   8.91  0.00  0.0    0   30  1\n",
              "...      ...     ...     ...    ...      ... ..    ...   ...  ...  ...  ... ..\n",
              "14053  16766  1188.0    1188   7.99     7.99  0   8.91  0.00  0.0    0    0  0\n",
              "14054  22624  1620.0    1620   5.33     5.33  0   8.91  0.00  0.0    0    0  0\n",
              "14055  22653  1188.0    1188   5.33     5.33  0   8.91  0.00  0.0    0   37  0\n",
              "14056  24000  1080.0    1080   5.33     5.33  0   8.91  0.00  0.0    0    0  0\n",
              "14057  24724  2160.0    2160   5.33     5.33  1  10.00  0.46  0.0    0  137  0\n",
              "14058  28126   324.0     324   5.33     5.33  1   6.00  0.86  0.0    0   12  0\n",
              "14059  30177  1620.0    1620   6.14     6.14  0   8.91  0.00  0.0    0   82  0\n",
              "14060  30460  1620.0    1620   4.31     4.31  0   8.91  0.00  0.0    0    0  0\n",
              "14061  33352  1620.0    1620   5.33     5.33  0   8.91  0.08  0.0    0  172  0\n",
              "14062   1429   540.0     540   5.33     5.33  0   8.91  0.39  0.0    0    1  0\n",
              "14063   2784  1188.0    1188   5.33     5.33  0   8.91  0.00  0.0    0    0  0\n",
              "14064   4589   540.0     540   5.33     5.33  0   8.91  0.05  0.0    0  109  0\n",
              "14065   6775   324.0     324   5.33     5.33  0   8.91  0.00  0.0    0    0  0\n",
              "14066   7529  1620.0    1620   6.55     6.55  0   8.91  0.00  0.0    0    0  0\n",
              "14067  10984  2160.0    2160   5.33     5.33  0   8.91  0.00  0.0    0    0  0\n",
              "14068  11518  2160.0    2160   5.33     5.33  0   8.91  0.20  0.0    0    1  0\n",
              "14069  16265  2160.0    2160   5.33     5.33  0   8.91  0.00  0.0    0    0  0\n",
              "14070  17596  2160.0    2160   5.33     5.33  0   8.91  0.07  0.0    0    0  0\n",
              "14071  20161  2160.0    2160   6.01     6.01  0   8.91  0.00  0.0    0    3  0\n",
              "14072  20437  1620.0    1620   7.99     7.99  1   7.00  0.99  0.0    3    8  0\n",
              "14073  20544  2160.0    2160   6.55     6.55  0   8.91  0.36  0.0    0   28  0\n",
              "14074  22468  1188.0    1188   5.33     5.33  0   8.91  0.13  0.0    0  179  0\n",
              "14075  22628  1620.0    1620   5.33     5.33  0   8.91  0.00  0.0    0    0  0\n",
              "14076  23059  2160.0    2160   6.01     6.01  0   8.91  0.19  0.0    0  173  0\n",
              "14077  24592  1620.0    1620   6.55     6.55  0   8.91  0.00  0.0    0  112  0\n",
              "14078  27398  2160.0    2160   7.99     7.99  0   8.91  0.00  0.0    0   54  0\n",
              "14079  28220  1620.0    1620   5.33     5.33  1   9.00  0.61  0.0    0    4  0\n",
              "14080  28671  1080.0    1080   6.55     6.55  1   6.00  0.29  0.0    0   29  0\n",
              "14081  31134  2160.0    2160   6.14     6.14  0   8.91  0.00  0.0    0    0  0\n",
              "14082  32832  1620.0    1620   5.33     5.33  1   8.00  0.38  0.0    0   90  0\n",
              "\n",
              "[14083 rows x 12 columns]>"
            ]
          },
          "metadata": {
            "tags": []
          },
          "execution_count": 7
        }
      ]
    },
    {
      "cell_type": "code",
      "metadata": {
        "id": "fOIZMhjUhCyx",
        "colab_type": "code",
        "colab": {}
      },
      "source": [
        ""
      ],
      "execution_count": 0,
      "outputs": []
    }
  ]
}